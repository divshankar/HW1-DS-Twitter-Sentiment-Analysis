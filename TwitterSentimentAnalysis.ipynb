{
 "cells": [
  {
   "cell_type": "markdown",
   "metadata": {},
   "source": [
    "<b>Homework 1 Twitter Sentiment Analysis</b>\n",
    "1. To analyze the overall sentiment of mined tweets, a word by word comparison with positive words, negative words and stop words is done. \n",
    "2. The sentiment is positive if the number of positive words is more than the negative words and vice versa."
   ]
  },
  {
   "cell_type": "code",
   "execution_count": 15,
   "metadata": {},
   "outputs": [],
   "source": [
    "import time\n",
    "start = time.time()"
   ]
  },
  {
   "cell_type": "code",
   "execution_count": 16,
   "metadata": {},
   "outputs": [],
   "source": [
    "import re"
   ]
  },
  {
   "cell_type": "markdown",
   "metadata": {},
   "source": [
    "<b>Function analyzetweets() will analyze the mined tweet file and count the number of positive words, negative words, and other words/stop words which be used to check if the overall sentiment is positive or negative</b>\n",
    "1. Creating object \"tweetdata\" to read \"tweetfile\" and its contents are stored in \"tweetfileread\"\n",
    "2. <b>Data Cleansing</b>: Removing non alphanumeric characters from \"tweetfileread\" and store it in \"tweetfileclean\"\n",
    "3. Contents of \"tweetfileclean\" are written into a new file \"cleanedtweetfile.txt\"\n",
    "4. Creating object \"cleanedtweetdata\" to read \"cleanedtweetfile.txt\"\n",
    "5. Reading and splitting \"cleanedtweetfile.txt\" and store it list \"tweetwordslist\"\n",
    "6. Create objects \"filepositive\",\"filenegative\",\"filestopword\" to read \"positive.txt\", \"negative.txt\",\"stopwords.txt\" and store it in \"positivewordslist\", \"negativewordslist\", \"stopwordlist\"\n",
    "7. <b>Loop Iteration</b>: Check if each word in \"tweetwordslist\" is found in \"positivewordslist/negativewordslist/stopwordlist\" and increment the corresponding counters (\"poscounter/negcounter/stopwordcounter/othercounter\")\n",
    "8. Compute the ratio of Positive words, Negative words, other/stop words to total tweet words\n",
    "9. Compute the percentage of Positive words, Negative words to total positive/negative words which will be used to determine if the sentiment is positive/negative either weakly or strongly"
   ]
  },
  {
   "cell_type": "code",
   "execution_count": 17,
   "metadata": {},
   "outputs": [],
   "source": [
    "def analyzetweets(tweetfile):\n",
    "    #open tweetfile and storing content in tweetfileread\n",
    "    tweetdata = open(tweetfile,\"r\")\n",
    "    tweetfileread = tweetdata.read()\n",
    "    \n",
    "    #removing non alphanumeric characters from tweetfileread and storing it in tweetfileclean\n",
    "    tweetfileclean = re.sub('[^a-zA-Z0-9\\n\\.]', ' ', tweetfileread)\n",
    "    \n",
    "    #writing the clean content in tweetfileclean to a new file called cleanedtweetfile.txt\n",
    "    open(\"cleanedtweetfile.txt\",\"w\").write(tweetfileclean)\n",
    "    \n",
    "    #reading cleanedtweetfile.txt through an object called cleanedtweetdata and splitting to create a list called tweetwordslist\n",
    "    cleanedtweetdata = open(\"cleanedtweetfile.txt\",\"r\")\n",
    "    tweetwordslist = cleanedtweetdata.read().split()\n",
    "    \n",
    "    global tweetwordscount\n",
    "    \n",
    "    tweetwordscount = len(tweetwordslist)\n",
    "    \n",
    "    #creating objects \"filepositive\", \"filenegative\", \"filestopword\" to read \"positive.txt\", \"negative.txt\" \n",
    "    # and \"stopwords.txt\" respectively\n",
    "    filepositive = open(\"positive.txt\",\"r\")\n",
    "    filenegative = open(\"negative.txt\",\"r\")\n",
    "    filestopword = open(\"stopwords.txt\",\"r\")\n",
    "    \n",
    "    #read, split \"positive.txt\", \"negative.txt\",and \"stopword.txt\";store it in \"positivewordslist\",\"negativewordslist\"\n",
    "    #and \"stopwordlist\"\n",
    "    positivewordslist = filepositive.read().split()\n",
    "    negativewordslist = filenegative.read().split()\n",
    "    stopwordlist = filestopword.read().split()\n",
    "    \n",
    "    global poscounter\n",
    "    global negcounter\n",
    "    global stopwordcounter\n",
    "    global othercounter\n",
    "    global posnegcount\n",
    "    \n",
    "    poscounter = 0\n",
    "    negcounter = 0\n",
    "    stopwordcounter = 0\n",
    "    othercounter = 0\n",
    "    posnegcount = 0\n",
    "    \n",
    "    #Check if each word in \"tweetwordslist\" is found in \"positivewordslist/negativewordslist\" \n",
    "    #and increment the corresponding counters (\"poscounter/negcounter/othercounter\")\n",
    "    for word in tweetwordslist:\n",
    "        if word in positivewordslist:\n",
    "            poscounter += 1\n",
    "        elif word in negativewordslist:\n",
    "            negcounter += 1\n",
    "        elif word in stopwordlist:\n",
    "            stopwordcounter += 1\n",
    "        else:\n",
    "            othercounter +=1\n",
    "    \n",
    "    posnegcount = poscounter + negcounter\n",
    "    \n",
    "    global posratio\n",
    "    global negratio\n",
    "    global stopwordratio\n",
    "    global otherratio\n",
    "    \n",
    "    posratio = 0\n",
    "    negratio = 0\n",
    "    stopwordratio = 0\n",
    "    otherratio = 0\n",
    "    \n",
    "    #Compute the ratio of Positive words, Negative words, other & stop words to total tweet words\n",
    "    posratio = poscounter/tweetwordscount\n",
    "    negratio = negcounter/tweetwordscount\n",
    "    stopwordratio = stopwordcounter/tweetwordscount\n",
    "    otherratio = othercounter/tweetwordscount\n",
    "    \n",
    "    global pctposcount\n",
    "    global pctnegcount\n",
    "    \n",
    "    pctposcount = 0\n",
    "    pctnegcount = 0\n",
    "    \n",
    "    #Compute the percentage of Positive words, Negative words to total positive/negative words\n",
    "    pctposcount = ((poscounter)/(posnegcount))*100\n",
    "    pctnegcount = ((negcounter)/(posnegcount))*100\n",
    "    \n",
    "    tweetdata.close()\n",
    "    cleanedtweetdata.close()\n",
    "    filepositive.close()\n",
    "    filenegative.close()\n",
    "    filestopword.close()"
   ]
  },
  {
   "cell_type": "markdown",
   "metadata": {},
   "source": [
    "<b>Opening file with mined twitter data, passing it to analyzetweets() to provide insights for determining overall sentiment. Displaying the following details:</b>\n",
    "1. Total Positive words, Negative words, Other/Stop words\n",
    "2. Ratio of Positive/Negative/Other(Stop) words to total tweet words\n",
    "3. Sum of Positive/Negative words\n",
    "4. Percentage of Positive words, Negative words to Sum of Positive/Negative words\n",
    "5. Overall Sentiment (Positive/Negative)\n",
    "6. Overall Sentiment (Weakly/Strongly"
   ]
  },
  {
   "cell_type": "markdown",
   "metadata": {},
   "source": [
    "<div class=\"alert alert-block alert-info\"> Analyzing trending tweets on GoT </div>"
   ]
  },
  {
   "cell_type": "code",
   "execution_count": 18,
   "metadata": {},
   "outputs": [
    {
     "name": "stdout",
     "output_type": "stream",
     "text": [
      "Total Positive words= 710 :: Total Negative words= 541\n",
      "\n",
      "Stop words: 15816\n",
      "\n",
      "Other words: 26036\n",
      "\n",
      "Total words: 43103\n",
      "\n",
      "Ratio of Positive words:Total words = 710:43103 = 0.01647217131058163\n",
      "\n",
      "Ratio of Negative words:Total words = 541:43103 = 0.012551330533837552\n",
      "\n",
      "Ratio of Stop words:Total words = 15816:43103 = 0.3669350161241677\n",
      "\n",
      "Ratio of Other words:Total words = 26036:43103 = 0.6040414820314132\n",
      "\n",
      "Sum of positive/negative observed: 1251\n",
      "\n",
      "Percentage of Positive words to positive/negative words: 56.754596322941644\n",
      "\n",
      "Percentage of Negative words to positive/negative words: 43.245403677058356\n",
      "\n",
      "**Sentiment is Positive!**\n",
      "\n",
      "**Sentiment is Positive Weakly!**(Based on Percentage)\n"
     ]
    }
   ],
   "source": [
    "#Analyzing trending tweets on \"GoT\"\n",
    "analyzetweets(\"GoT.txt\")\n",
    "print(\"Total Positive words= \"+ str(poscounter)+\" :: Total Negative words= \"+ str(negcounter))\n",
    "print(\"\\nStop words: \"+str(stopwordcounter))\n",
    "print(\"\\nOther words: \"+str(othercounter))\n",
    "print(\"\\nTotal words: \"+str(tweetwordscount))\n",
    "print(\"\\nRatio of Positive words:Total words = \"+str(poscounter)+\":\"+str(tweetwordscount)+\" = \"+str(posratio))\n",
    "print(\"\\nRatio of Negative words:Total words = \"+str(negcounter)+\":\"+str(tweetwordscount)+\" = \"+str(negratio))\n",
    "print(\"\\nRatio of Stop words:Total words = \"+str(stopwordcounter)+\":\"+str(tweetwordscount)+\" = \"+str(stopwordratio))\n",
    "print(\"\\nRatio of Other words:Total words = \"+str(othercounter)+\":\"+str(tweetwordscount)+\" = \"+str(otherratio))\n",
    "print(\"\\nSum of positive/negative observed: \"+str(posnegcount))\n",
    "print(\"\\nPercentage of Positive words to positive/negative words: \"+str(pctposcount))\n",
    "print(\"\\nPercentage of Negative words to positive/negative words: \"+str(pctnegcount))\n",
    "if(poscounter > negcounter):\n",
    "    print(\"\\n**Sentiment is Positive!**\")\n",
    "    if(pctposcount>50 and pctposcount<80):\n",
    "        print(\"\\n**Sentiment is Positive Weakly!**(Based on Percentage)\")\n",
    "    elif(pctposcount>80):\n",
    "        print(\"\\n**Sentiment is Positive Strongly!**(Based on Percentage)\")\n",
    "else:\n",
    "    print(\"\\n**Sentiment is Negative!**\")\n",
    "    if(pctnegcount>50 and pctnegcount<80):\n",
    "        print(\"\\n**Sentiment is Negative Weakly!**(Based on Percentage)\")\n",
    "    elif(pctnegcount>80):\n",
    "        print(\"\\n**Sentiment is Negative Strongly!**(Based on Percentage)\")"
   ]
  },
  {
   "cell_type": "markdown",
   "metadata": {},
   "source": [
    "<div class=\"alert alert-block alert-info\"> Analyzing trending tweets on NotreDameCathedralFire </div>"
   ]
  },
  {
   "cell_type": "code",
   "execution_count": 19,
   "metadata": {},
   "outputs": [
    {
     "name": "stdout",
     "output_type": "stream",
     "text": [
      "Total Positive words= 677 :: Total Negative words= 784\n",
      "\n",
      "Stop words: 15993\n",
      "\n",
      "Other words: 28382\n",
      "\n",
      "Total words: 45836\n",
      "\n",
      "Ratio of Positive words:Total words = 677:45836 = 0.014770049742560434\n",
      "\n",
      "Ratio of Negative words:Total words = 784:45836 = 0.01710445937690898\n",
      "\n",
      "Ratio of Stop words:Total words = 15993:45836 = 0.3489178811414609\n",
      "\n",
      "Ratio of Other words:Total words = 28382:45836 = 0.6192076097390697\n",
      "\n",
      "Sum of positive/negative observed: 1461\n",
      "\n",
      "Percentage of Positive words to positive/negative words: 46.338124572210816\n",
      "\n",
      "Percentage of Negative words to positive/negative words: 53.661875427789184\n",
      "\n",
      "**Sentiment is Negative!**\n",
      "\n",
      "**Sentiment is Negative Weakly!**(Based on Percentage)\n"
     ]
    }
   ],
   "source": [
    "#Analyzing another trending tweet \"NotreDameCathedralFire\"\n",
    "analyzetweets(\"NotreDameCathedralFire.txt\")\n",
    "print(\"Total Positive words= \"+ str(poscounter)+\" :: Total Negative words= \"+ str(negcounter))\n",
    "print(\"\\nStop words: \"+str(stopwordcounter))\n",
    "print(\"\\nOther words: \"+str(othercounter))\n",
    "print(\"\\nTotal words: \"+str(tweetwordscount))\n",
    "print(\"\\nRatio of Positive words:Total words = \"+str(poscounter)+\":\"+str(tweetwordscount)+\" = \"+str(posratio))\n",
    "print(\"\\nRatio of Negative words:Total words = \"+str(negcounter)+\":\"+str(tweetwordscount)+\" = \"+str(negratio))\n",
    "print(\"\\nRatio of Stop words:Total words = \"+str(stopwordcounter)+\":\"+str(tweetwordscount)+\" = \"+str(stopwordratio))\n",
    "print(\"\\nRatio of Other words:Total words = \"+str(othercounter)+\":\"+str(tweetwordscount)+\" = \"+str(otherratio))\n",
    "print(\"\\nSum of positive/negative observed: \"+str(posnegcount))\n",
    "print(\"\\nPercentage of Positive words to positive/negative words: \"+str(pctposcount))\n",
    "print(\"\\nPercentage of Negative words to positive/negative words: \"+str(pctnegcount))\n",
    "if(poscounter > negcounter):\n",
    "    print(\"\\n**Sentiment is Positive!**\")\n",
    "    if(pctposcount>50 and pctposcount<80):\n",
    "        print(\"\\n**Sentiment is Positive Weakly!**(Based on Percentage)\")\n",
    "    elif(pctposcount>80):\n",
    "        print(\"\\n**Sentiment is Positive Strongly!**(Based on Percentage)\")\n",
    "else:\n",
    "    print(\"\\n**Sentiment is Negative!**\")\n",
    "    if(pctnegcount>50 and pctnegcount<80):\n",
    "        print(\"\\n**Sentiment is Negative Weakly!**(Based on Percentage)\")\n",
    "    elif(pctnegcount>80):\n",
    "        print(\"\\n**Sentiment is Negative Strongly!**(Based on Percentage)\")"
   ]
  },
  {
   "cell_type": "code",
   "execution_count": 20,
   "metadata": {},
   "outputs": [
    {
     "name": "stdout",
     "output_type": "stream",
     "text": [
      "Total Time: 8.465400695800781 seconds\n"
     ]
    }
   ],
   "source": [
    "end = time.time()\n",
    "end -= start\n",
    "print(\"Total Time: \"+str(end)+\" seconds\")"
   ]
  }
 ],
 "metadata": {
  "kernelspec": {
   "display_name": "Python 3",
   "language": "python",
   "name": "python3"
  },
  "language_info": {
   "codemirror_mode": {
    "name": "ipython",
    "version": 3
   },
   "file_extension": ".py",
   "mimetype": "text/x-python",
   "name": "python",
   "nbconvert_exporter": "python",
   "pygments_lexer": "ipython3",
   "version": "3.6.5"
  }
 },
 "nbformat": 4,
 "nbformat_minor": 2
}
